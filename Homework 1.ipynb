{
 "cells": [
  {
   "cell_type": "code",
   "execution_count": 189,
   "metadata": {},
   "outputs": [],
   "source": [
    "%matplotlib inline\n",
    "import math\n",
    "import numpy as np\n",
    "from matplotlib import pyplot as plt"
   ]
  },
  {
   "cell_type": "markdown",
   "metadata": {},
   "source": [
    "# Homework"
   ]
  },
  {
   "cell_type": "markdown",
   "metadata": {},
   "source": [
    "## Problem 1\n",
    "\n",
    "Give me the solution to $x = e^{-x}$ that is $10^{-6}$ using bisection method.\n",
    "\n",
    "Pick the initial bound from the following and explain why you can't pick the other one.\n",
    "Bound A: (-1,0), Bound B (0,1)"
   ]
  },
  {
   "cell_type": "code",
   "execution_count": 190,
   "metadata": {},
   "outputs": [
    {
     "data": {
      "text/plain": [
       "0.567143290409784"
      ]
     },
     "execution_count": 190,
     "metadata": {},
     "output_type": "execute_result"
    }
   ],
   "source": [
    "#choose (0,1) because e^(-x) cannot be negative so x cannot be in the (-1,0) bound which will make it negative\n",
    "\n",
    "# x = np.linspace(0,1,100)\n",
    "# y = x-(np.e)**(-x)\n",
    "# plt.plot(x,y,color='green')\n",
    "# plt.plot(x,x)\n",
    "# plt.axvline(x=0.4,color='blue')\n",
    "# plt.axvline(x=0.8,color='blue')\n",
    "# plt.axhline(y=0,color='red')\n",
    "# print(1-1/math.e)\n",
    "# print(0-1)\n",
    "def bisection(f:'Function', lb : float , ub : float, n:int) -> float:\n",
    "    for i in range(n):\n",
    "        guess = (lb+ub)/2\n",
    "        y_left = f(lb)\n",
    "        y_right = f(ub)\n",
    "        y_guess = f(guess)\n",
    "        if y_left * y_guess < 0:\n",
    "            ub = guess\n",
    "        else:\n",
    "            lb = guess\n",
    "    return guess\n",
    "def magic_function(x):\n",
    "    return x-np.e**(-x)\n",
    "bisection(f=magic_function, lb = 0 , ub = 1, n=100)"
   ]
  },
  {
   "cell_type": "markdown",
   "metadata": {},
   "source": [
    "## Problem 2\n",
    "Find all value of $x \\in [0,1]$ such that $f(x)=0$ for\n",
    "\n",
    "$f(x) = -0.000216747 + 0.0072868 x - 0.0977383 x^2 + 0.664685 x^3 - \n",
    " 2.40773 x^4 + 4.46766 x^5 - 3.7091 x^6 + x^7$\n",
    " \n",
    "Make sure your answers are at most $10^{-6}$ away from the real solution."
   ]
  },
  {
   "cell_type": "code",
   "execution_count": 191,
   "metadata": {},
   "outputs": [
    {
     "name": "stdout",
     "output_type": "stream",
     "text": [
      "0.12216651342417575\n",
      "0.22002828210148367\n",
      "0.33329879874733226\n"
     ]
    },
    {
     "data": {
      "image/png": "[encoded data removed]",
      "text/plain": [
       "<matplotlib.figure.Figure at 0x1de245c9f28>"
      ]
     },
     "metadata": {},
     "output_type": "display_data"
    }
   ],
   "source": [
    "x = np.linspace(0,1,100)\n",
    "y = -0.000216747 + 0.0072868*x - 0.0977383*x**2 + 0.664685*x**3 - 2.40773*x**4 + 4.46766*x**5 - 3.7091*x**6 + x**7\n",
    "plt.plot(x,y)\n",
    "plt.axhline(y=0,color='orange')\n",
    "# plt.ylim(-0.0000005,0.0000005)\n",
    "# From the graph, there are 3 points that intersects the x-axis. \n",
    "# One of the points is in between 0.10 < x 0.15\n",
    "# The other point is 0.20 < x < 0.25 \n",
    "# The last point is 0.30 < x < 0.35 \n",
    "\n",
    "# Will do bisection three times, each on one of the points\n",
    "\n",
    "def bisection_2(f:'Function', lb : float , ub : float, n:int) -> float:\n",
    "    for i in range(n):\n",
    "        guess = (lb+ub)/2\n",
    "        y_left = f(lb)\n",
    "        y_right = f(ub)\n",
    "        y_guess = f(guess)\n",
    "        if y_left * y_guess < 0:\n",
    "            ub = guess\n",
    "        else:\n",
    "            lb = guess\n",
    "    return guess\n",
    "def magic_function_2(x):\n",
    "    return -0.000216747 + 0.0072868*x - 0.0977383*x**2 + 0.664685*x**3 - 2.40773*x**4 + 4.46766*x**5 - 3.7091*x**6 + x**7\n",
    "print(bisection_2(f=magic_function_2, lb = 0.1 , ub = 0.15, n=100))\n",
    "print(bisection_2(f=magic_function_2, lb = 0.2 , ub = 0.25, n=100))\n",
    "print(bisection_2(f=magic_function_2, lb = 0.3 , ub = 0.35, n=100))\n"
   ]
  },
  {
   "cell_type": "markdown",
   "metadata": {},
   "source": [
    "2.1) Find all the local minima and maxima of the above function. How do you figure out whether it is a local maximum or local minimum"
   ]
  },
  {
   "cell_type": "code",
   "execution_count": 192,
   "metadata": {},
   "outputs": [
    {
     "name": "stdout",
     "output_type": "stream",
     "text": [
      "0.19136723239372727 this is max\n",
      "0.2970913152098432 this is min\n",
      "0.6817805217356536 this is max\n"
     ]
    },
    {
     "data": {
      "image/png": "[encoded data removed]",
      "text/plain": [
       "<matplotlib.figure.Figure at 0x1de1b728f98>"
      ]
     },
     "metadata": {},
     "output_type": "display_data"
    }
   ],
   "source": [
    "# df(x)/dx = 0 , point (x,f(x)) will be the local maxima/minima\n",
    "# f(x) = -0.000216747 + 0.0072868*x - 0.0977383*x**2 + 0.664685*x**3 - 2.40773*x**4 + 4.46766*x**5 - 3.7091*x**6 + x**7\n",
    "# df(x)/dx = 7*x**6 - 22.2546*x**5 + 22.338300000000004*x**4 - 9.63092*x**3  + 1.994055*x**2 - 0.1954766*x + 0.0072868\n",
    "x = np.linspace(0.02,1.8,200)\n",
    "y = 7*x**6 - 22.2546*x**5 + 22.338300000000004*x**4 - 9.63092*x**3  + 1.994055*x**2 - 0.1954766*x + 0.0072868\n",
    "plt.plot(x,y)\n",
    "plt.axhline(y=0,color='orange')\n",
    "plt.ylim(-0.00002,0.00002)\n",
    "def bisection_3(f:'Function', lb : float , ub : float, n:int) -> float:\n",
    "    for i in range(n):\n",
    "        guess = (lb+ub)/2\n",
    "        y_left = f(lb)\n",
    "        y_right = f(ub)\n",
    "        y_guess = f(guess)\n",
    "        if y_left * y_guess < 0:\n",
    "            ub = guess\n",
    "        else:\n",
    "            lb = guess\n",
    "    return guess\n",
    "def magic_function_3(x):\n",
    "    return 7*x**6 - 22.2546*x**5 + 22.338300000000004*x**4 - 9.63092*x**3  + 1.994055*x**2 - 0.1954766*x + 0.0072868\n",
    "print(bisection_3(f=magic_function_3, lb = 0.15 , ub = 0.2, n=100),'this is max')\n",
    "print(bisection_3(f=magic_function_3, lb = 0.25 , ub = 0.3, n=100),'this is min')\n",
    "print(bisection_3(f=magic_function_3, lb = 0.65 , ub = 0.7, n=100),'this is max')\n",
    "# print(bisection_3(f=magic_function_3, lb = 1.75 , ub = 1.8, n=100)) #this is not in the range[0,1]\n",
    "\n",
    "#Use second derivative to find which is max and which is min\n",
    "def second_diff(x):\n",
    "    return 42*x**5-111.273*x**4+89.353200000000016*x**3-28.8928*x**2+3.98811*x-0.195477\n",
    "# second_diff(0.19136723239372727)\n",
    "# second_diff(0.2970913152098432)\n",
    "# second_diff(0.6817805217356536)\n",
    "# second_diff(1)\n",
    "\n",
    "\n",
    "\n"
   ]
  },
  {
   "cell_type": "markdown",
   "metadata": {},
   "source": [
    "2.2) What is the `global maximum` and `global minimum` of the function above within the range $x\\in[0,1]$"
   ]
  },
  {
   "cell_type": "code",
   "execution_count": 193,
   "metadata": {},
   "outputs": [
    {
     "name": "stdout",
     "output_type": "stream",
     "text": [
      "Global min = (1,-0.07515324699999937)\n",
      "Global max = (0.6817805217356536,0.003825808321975266)\n"
     ]
    }
   ],
   "source": [
    "#From the 3 values above, along with 0 and 1, plug into original equation to find max and min y\n",
    "\n",
    "max_1 = 0.19136723239372727\n",
    "max_2 = 0.6817805217356536\n",
    "min_1 = 0.2970913152098432\n",
    "zero = 0 \n",
    "one = 1 \n",
    "\n",
    "def fx(x):\n",
    "    return -0.000216747 + 0.0072868*x - 0.0977383*x**2 + 0.664685*x**3 - 2.40773*x**4 + 4.46766*x**5 - 3.7091*x**6 + x**7\n",
    "\n",
    "y_max_1 = fx(max_1)\n",
    "y_max_2 = fx(max_2)\n",
    "y_min_1 = fx(min_1)\n",
    "y_0 = fx(0)\n",
    "y_1 = fx(1)\n",
    "\n",
    "print('Global min = (1,'+str(min(y_0,y_1,y_max_1,y_max_2,y_min_1))+')') #y_1\n",
    "print('Global max = (0.6817805217356536,'+str(max(y_0,y_1,y_max_1,y_max_2,y_min_1))+')') #y_max_2\n",
    "\n"
   ]
  },
  {
   "cell_type": "markdown",
   "metadata": {},
   "source": [
    "## Problem 3\n",
    "In quantum physics, when finding a bound state for a finite potential well one would end up with the following equation(Yes E is negative):\n",
    "\n",
    "$$\n",
    "\\sqrt{\\frac{-E}{E+V_0}} = \\tan \\sqrt{2m \\frac{E+V_0}{\\hbar^2} a}\n",
    "$$\n",
    "\n",
    "The goal is to find all Energy($E$) that satisfy this equation.\n",
    "For simplicity, let\n",
    "- $V_0 = 1$\n",
    "- $m = 1$\n",
    "- $a = 1$\n",
    "- $\\hbar = 1$(Yes this is called natural unit)\n",
    "\n",
    "$$\n",
    "    \\sqrt{\\frac{-E}{E+1}} = \\tan \\sqrt{2(E+1)}\n",
    "$$\n",
    "\n",
    "Find the value for $E\\in (-1.0, 0)$ which satisfy the equation above). Make sure you accuracy is $<\\pm10^{-4}$\n"
   ]
  },
  {
   "cell_type": "code",
   "execution_count": 194,
   "metadata": {},
   "outputs": [
    {
     "data": {
      "text/plain": [
       "-0.6038978338633945"
      ]
     },
     "execution_count": 194,
     "metadata": {},
     "output_type": "execute_result"
    },
    {
     "data": {
      "image/png": "[encoded data removed]",
      "text/plain": [
       "<matplotlib.figure.Figure at 0x1de249e94a8>"
      ]
     },
     "metadata": {},
     "output_type": "display_data"
    }
   ],
   "source": [
    "def f(x):\n",
    "    return math.sqrt(-x/(x+1))\n",
    "def g(x):\n",
    "    return math.tan(math.sqrt(2*(x + 1)))\n",
    "\n",
    "xs = np.linspace(-0.999,-0.1, 100)\n",
    "fx = [f(x) for x in xs]\n",
    "gx = [g(x) for x in xs]\n",
    "plt.plot(xs,fx)\n",
    "plt.plot(xs,gx)\n",
    "\n",
    "def bisection(f:'Function', lb : float , ub : float, n:int) -> float:\n",
    "    for i in range(n):\n",
    "        guess = (lb+ub)/2\n",
    "        y_left = f(lb)\n",
    "        y_right = f(ub)\n",
    "        y_guess = f(guess)\n",
    "        if y_left * y_guess < 0:\n",
    "            ub = guess\n",
    "        else:\n",
    "            lb = guess\n",
    "    return guess\n",
    "def magic_function(x):\n",
    "    return f(x)-g(x)\n",
    "bisection(f=magic_function, lb = -0.8 , ub = -0.4, n=100)\n"
   ]
  },
  {
   "cell_type": "markdown",
   "metadata": {},
   "source": [
    "## Problem 4\n",
    "Chakeera quit programming and decide to be a Apple(fruit) shop owner. She bought 1000 apples everyday and try to sell it. The probability $k$ customer want Chakeera's apple(one each) is given by Poisson distribution:\n",
    "\n",
    "$$\n",
    "    P(k; \\lambda) = \\frac{\\lambda^k \\exp(-\\lambda)}{k!}\n",
    "$$\n",
    "\n",
    "Where $\\lambda$ is an parameter that represent the mean of number of people that want Chakeera's apple each day.\n",
    "\n",
    "After selling apples for 2000 days Chakeera found that her 1000 apples a day are sold out 600 days out of 2000 days.\n",
    "\n",
    "The goal for this problem is to figure out how she should change the number of apples she bought in a day.\n",
    "\n",
    "- In case you are curious https://en.wikipedia.org/wiki/Poisson_distribution. The true distribution of this selling apple process should be binomial distribution but with large enough customer and low enough probability of an individual buying an apple this is an excellent approximatoin."
   ]
  },
  {
   "cell_type": "markdown",
   "metadata": {
    "collapsed": true
   },
   "source": [
    "4.1) You may find that if you try to code poisson distribution directly. It will not work with large number.\n",
    "$$\n",
    "    P(k; \\lambda) = \\frac{\\lambda^k \\exp(-\\lambda)}{k!}\n",
    "$$\n",
    "\n",
    "Explain briefly why python complains"
   ]
  },
  {
   "cell_type": "code",
   "execution_count": 195,
   "metadata": {},
   "outputs": [],
   "source": [
    "import math\n",
    "def bad_poisson(lmd, k):\n",
    "    return pow(lmd,k)*math.exp(-lmd)/math.factorial(k)\n",
    "# bad_poisson(1000,1000) # uncomment to see it breaks\n",
    "\n",
    "#1000^1000 is wayyyyy to big to be stored in an int"
   ]
  },
  {
   "cell_type": "markdown",
   "metadata": {},
   "source": [
    "4.2) A very useful trick to avoid this problem is to take log and exponentiate. That is\n",
    "\n",
    "$$\n",
    "    P(k; \\lambda) = \\exp\\left( \\ln \\left[ \\frac{\\lambda^k \\exp(-\\lambda)}{k!} \\right] \\right)\n",
    "$$\n",
    "\n",
    "First, show that\n",
    "$$\n",
    "    \\ln(P(k; \\lambda)) = (\\ldots \\ln(\\ldots)-\\ldots)-\\ln(k!)\n",
    "$$\n",
    "\n"
   ]
  },
  {
   "cell_type": "code",
   "execution_count": 196,
   "metadata": {},
   "outputs": [],
   "source": [
    "#ln(P) = k ln (lmd) -lmd - ln(k!)"
   ]
  },
  {
   "cell_type": "markdown",
   "metadata": {},
   "source": [
    "4.3) $\\ln(k!)$ shows up everywhere in math. So most math library have `lgamma` function to compute this very fast.\n",
    "For example,\n",
    "\n",
    "`math.lgamma(5) == math.log(math.factorial(4))`\n",
    "\n",
    "Your job for this problem is to implement $P(k; \\lambda)$ using log-exp trick.\n",
    "\n",
    "If you do it right, $P(k=1000; \\mu=1000) \\approx 0.0126146$"
   ]
  },
  {
   "cell_type": "code",
   "execution_count": 197,
   "metadata": {},
   "outputs": [
    {
     "data": {
      "text/plain": [
       "0.012614611348719664"
      ]
     },
     "execution_count": 197,
     "metadata": {},
     "output_type": "execute_result"
    }
   ],
   "source": [
    "def lnP(lmd,k):\n",
    "    return math.exp(k*math.log(lmd) - lmd - math.lgamma(k+1))\n",
    "\n",
    "lnP(1000,1000)\n"
   ]
  },
  {
   "cell_type": "markdown",
   "metadata": {},
   "source": [
    "4.4) Now here is the fun part. Suppose that $\\lambda = 987.6$(this is not true). Find the probability that Chakeera will sell all her 1000 apples. (Remember if 2000 people want Chakeera's apple, her apple will also be sold out). \n",
    "\n",
    "And No, summing up to infinity is not practical."
   ]
  },
  {
   "cell_type": "code",
   "execution_count": 198,
   "metadata": {},
   "outputs": [
    {
     "data": {
      "text/plain": [
       "0.3507846581670552"
      ]
     },
     "execution_count": 198,
     "metadata": {},
     "output_type": "execute_result"
    }
   ],
   "source": [
    "# 1 - prob of not selling 1000 apples \n",
    "\n",
    "# Find the prob of not selling 1000 apples \n",
    "\n",
    "def prob_less_than_1000(lmd,apple):\n",
    "    prob = 0\n",
    "    #lmd = 987.6\n",
    "    for k in range(0,apple):\n",
    "        prob += math.exp(k*math.log(lmd) - lmd - math.lgamma(k+1))\n",
    "    return 1-prob\n",
    "prob_less_than_1000(987.6,1000)"
   ]
  },
  {
   "cell_type": "markdown",
   "metadata": {},
   "source": [
    "4.5) Recall the information that\n",
    "\n",
    "After selling apples for 2000 days Chakeera found that her 1000 apples a day are sold out 600 days out of 2000 days.\n",
    "\n",
    "Find the value for $\\lambda$ to a decent accuracy($<\\pm 0.1$)"
   ]
  },
  {
   "cell_type": "code",
   "execution_count": 199,
   "metadata": {},
   "outputs": [
    {
     "data": {
      "text/plain": [
       "983.1784467578987"
      ]
     },
     "execution_count": 199,
     "metadata": {},
     "output_type": "execute_result"
    },
    {
     "data": {
      "image/png": "[encoded data removed]",
      "text/plain": [
       "<matplotlib.figure.Figure at 0x1de245c9470>"
      ]
     },
     "metadata": {},
     "output_type": "display_data"
    }
   ],
   "source": [
    "lamd = np.linspace(983.1,983.3,400)\n",
    "def prob_less_than_1000_2(lmd):\n",
    "    prob = 0\n",
    "    #lmd = 987.6\n",
    "    for k in range(0,1000):\n",
    "        prob += math.exp(k*math.log(lmd) - lmd - math.lgamma(k+1))\n",
    "    return 0.7-prob\n",
    "# k = 1000\n",
    "# y = 0.7-(np.exp(k*np.log(lmd) - lmd - math.lgamma(k+1)))\n",
    "y=[prob_less_than_1000_2(x) for x in lamd]\n",
    "plt.plot(lmd,y)\n",
    "plt.axhline(y=0)\n",
    "def bisection(f:'Function', lb : float , ub : float, n:int) -> float:\n",
    "    for i in range(n):\n",
    "        guess = (lb+ub)/2\n",
    "        y_left = f(lb)\n",
    "        y_right = f(ub)\n",
    "        y_guess = f(guess)\n",
    "        if y_left * y_guess < 0:\n",
    "            ub = guess\n",
    "        else:\n",
    "            lb = guess\n",
    "    return guess\n",
    "# def magic_function(x):\n",
    "#     return 0.7-np.exp(k*np.log(lmd) - lmd - math.lgamma(k+1))\n",
    "bisection(prob_less_than_1000_2, 983.1 , 983.2, 100)"
   ]
  },
  {
   "cell_type": "markdown",
   "metadata": {},
   "source": [
    "4.6) Using $\\lambda$ you found in 4.5).\n",
    "\n",
    "Chakeera bought apple for 20 Baht each and she sell it for 50 Baht each. Which means that for each apple she sells she make a profit of 30 baht. But, at the end of each day Chakeera has to trash all unsold Apples(taking a loss of 20 Baht each).\n",
    "\n",
    "If Chakeera bought 1000 apples a day, what would be her expected profit(remember expected value from discrete math/stat/quantum?)."
   ]
  },
  {
   "cell_type": "code",
   "execution_count": 200,
   "metadata": {},
   "outputs": [
    {
     "data": {
      "text/plain": [
       "28864.606141773973"
      ]
     },
     "execution_count": 200,
     "metadata": {},
     "output_type": "execute_result"
    }
   ],
   "source": [
    "def prob_less_than_1000_3(k):\n",
    "#     for k in range(0,1000):\n",
    "    lmd = 983.1784467578987\n",
    "    return math.exp(k*math.log(lmd) - lmd - math.lgamma(k+1))\n",
    "    \n",
    "def expected_val(number_of_apple):\n",
    "    price = 0\n",
    "    profit = prob_less_than_1000(983.1784467578987,number_of_apple)*number_of_apple*30\n",
    "    for k in range(number_of_apple):\n",
    "        price += prob_less_than_1000_3(k)*(50*k-20*number_of_apple)\n",
    "    return price + profit\n",
    "expected_val(1000)"
   ]
  },
  {
   "cell_type": "markdown",
   "metadata": {},
   "source": [
    "4.7) Using $\\lambda$ you found in 4.5) Find the number of apple Chakeera should buy in a day to maximize her expected profit."
   ]
  },
  {
   "cell_type": "code",
   "execution_count": 201,
   "metadata": {},
   "outputs": [
    {
     "name": "stdout",
     "output_type": "stream",
     "text": [
      "991 apples\n"
     ]
    },
    {
     "data": {
      "image/png": "[encoded data removed]",
      "text/plain": [
       "<matplotlib.figure.Figure at 0x1de24607f28>"
      ]
     },
     "metadata": {},
     "output_type": "display_data"
    }
   ],
   "source": [
    "number_of_apple = np.arange(985,1000,1)\n",
    "y = [expected_val(apple) for apple in number_of_apple]\n",
    "plt.plot(number_of_apple,y)\n",
    "price = []\n",
    "for apple in range(985,1001):\n",
    "    price.append(expected_val(apple))\n",
    "max_i = max(price)\n",
    "# print(price)\n",
    "# print(max_i)\n",
    "ind = price.index(max_i)\n",
    "# print(ind)\n",
    "print(ind+985 , 'apples')\n"
   ]
  },
  {
   "cell_type": "markdown",
   "metadata": {},
   "source": [
    "## Problem 5\n",
    "\n",
    "Full Width at Half Maximum(FWHM). Distribution width is a very important quantity. It tells you how wide a the distribution is. One way to do that is to use a quantity called full-width half max.\n",
    "\n",
    "This is the width of the distribution at half maximum. \n",
    "\n",
    "For example for distribution shown below the maximum is at x=0.0 and y=1.0\n",
    "\n",
    "The maximum of this distribution is 1.0. So we are interested in the width of the distribution when the value of the distribution is 1.0/2=0.5\n",
    "\n",
    "The width of the distribution is shown in black line. In this case it's about 2.35"
   ]
  },
  {
   "cell_type": "code",
   "execution_count": 202,
   "metadata": {},
   "outputs": [
    {
     "data": {
      "text/plain": [
       "Text(0,0.3,'FWHM')"
      ]
     },
     "execution_count": 202,
     "metadata": {},
     "output_type": "execute_result"
    },
    {
     "data": {
      "image/png": "[encoded data removed]",
      "text/plain": [
       "<matplotlib.figure.Figure at 0x1de24955b38>"
      ]
     },
     "metadata": {},
     "output_type": "display_data"
    }
   ],
   "source": [
    "import math\n",
    "def demo(x):\n",
    "    return math.exp(-x**2/2.0)\n",
    "x = np.linspace(-3,3)\n",
    "y = [demo(xx) for xx in x]\n",
    "plt.plot(x,y)\n",
    "plt.axhline(0.5, color='red')\n",
    "\n",
    "plt.axvline(2.355/2,color='red',linestyle='dashed')\n",
    "plt.axvline(-2.355/2,color='red',linestyle='dashed')\n",
    "\n",
    "plt.grid()\n",
    "plt.annotate(\n",
    "    '', xy=(-2.355/2, 0.4), xycoords='data',\n",
    "    xytext=(2.355/2, 0.4), textcoords='data',\n",
    "    arrowprops={'arrowstyle': '<->'})\n",
    "plt.text(0,0.3,'FWHM',horizontalalignment ='center')"
   ]
  },
  {
   "cell_type": "markdown",
   "metadata": {},
   "source": [
    "5.1)Find FWHM of the following function. Make sure the bound on error of the FWHM is less than $10^{-4}$."
   ]
  },
  {
   "cell_type": "code",
   "execution_count": 203,
   "metadata": {},
   "outputs": [
    {
     "name": "stdout",
     "output_type": "stream",
     "text": [
      "2.3450000000000006 : x at df(x)/d(x) = 0\n"
     ]
    },
    {
     "data": {
      "image/png": "[encoded data removed]",
      "text/plain": [
       "<matplotlib.figure.Figure at 0x1de24a96a58>"
      ]
     },
     "metadata": {},
     "output_type": "display_data"
    }
   ],
   "source": [
    "def derivative(x):\n",
    "    return -( 6.2 * (x-2.345))/((x-2.345)**2+9.61)**2\n",
    "x = np.linspace(2,3,200)\n",
    "y_diff = [derivative(xx) for xx in x]\n",
    "plt.plot(x,y_diff)\n",
    "plt.grid()\n",
    "plt.axhline(y=0,color='green')\n",
    "\n",
    "def bisection(f:'Function', lb : float , ub : float, n:int) -> float:\n",
    "    for i in range(n):\n",
    "        guess = (lb+ub)/2\n",
    "        y_left = f(lb)\n",
    "        y_right = f(ub)\n",
    "        y_guess = f(guess)\n",
    "        if y_left * y_guess < 0:\n",
    "            ub = guess\n",
    "        else:\n",
    "            lb = guess\n",
    "    return guess\n",
    "def magic_function(x):\n",
    "    return -( 6.2 * (x-2.345))/((x-2.345)**2+9.61)**2\n",
    "print(bisection(f=magic_function, lb = 2.2 , ub = 2.4, n=100),': x at df(x)/d(x) = 0')\n",
    "\n",
    "\n"
   ]
  },
  {
   "cell_type": "code",
   "execution_count": 207,
   "metadata": {},
   "outputs": [
    {
     "data": {
      "text/plain": [
       "6.200000000000001"
      ]
     },
     "execution_count": 207,
     "metadata": {},
     "output_type": "execute_result"
    },
    {
     "data": {
      "image/png": "[encoded data removed]",
      "text/plain": [
       "<matplotlib.figure.Figure at 0x1de24c32208>"
      ]
     },
     "metadata": {},
     "output_type": "display_data"
    }
   ],
   "source": [
    "import math\n",
    "def f(x, gamma=3.1):\n",
    "    mu = 2.345\n",
    "    return gamma/((x-mu)**2+gamma**2)\n",
    "x = np.linspace(-10,10,200)\n",
    "y = [f(xx) for xx in x]\n",
    "plt.plot(x,y)\n",
    "plt.grid()\n",
    "\n",
    "x_peak = 2.3450000000000006\n",
    "y_peak = f(x_peak)\n",
    "half_y_peak = y_peak/2\n",
    "plt.axhline(half_y_peak,color='red')\n",
    "\n",
    "def bisection(f:'Function', lb : float , ub : float, n:int) -> float:\n",
    "    for i in range(n):\n",
    "        guess = (lb+ub)/2\n",
    "        y_left = f(lb)\n",
    "        y_right = f(ub)\n",
    "        y_guess = f(guess)\n",
    "        if y_left * y_guess < 0:\n",
    "            ub = guess\n",
    "        else:\n",
    "            lb = guess\n",
    "    return guess\n",
    "def magic_function(x):\n",
    "    gamma=3.1\n",
    "    mu = 2.345\n",
    "    return half_y_peak - gamma/((x-mu)**2+gamma**2)\n",
    "x_1 = bisection(f=magic_function, lb = -0.775 , ub = -0.75, n=100)\n",
    "x_2 = bisection(f=magic_function, lb = 5.4 , ub = 5.6, n=100)\n",
    "width = x_2 - x_1\n",
    "width\n",
    "# print(x_1,x_2)\n"
   ]
  },
  {
   "cell_type": "markdown",
   "metadata": {},
   "source": [
    "5.2) Plot FWHM(y-axis) as a function of $\\gamma$(gamma) from $\\gamma=0.5\\ldots 3$. Make sure you have at least 30 points."
   ]
  },
  {
   "cell_type": "code",
   "execution_count": 205,
   "metadata": {},
   "outputs": [
    {
     "data": {
      "text/plain": [
       "[<matplotlib.lines.Line2D at 0x1de24bf32b0>]"
      ]
     },
     "execution_count": 205,
     "metadata": {},
     "output_type": "execute_result"
    },
    {
     "data": {
      "image/png": "[encoded data removed]",
      "text/plain": [
       "<matplotlib.figure.Figure at 0x1de2461eb70>"
      ]
     },
     "metadata": {},
     "output_type": "display_data"
    }
   ],
   "source": [
    "# print(f(1.0, gamma=0.2)) # you may find this useful\n",
    "gamma = np.linspace(0.5,3,100)\n",
    "mu = 3.1\n",
    "y = gamma + mu - (mu - gamma)\n",
    "plt.plot(gamma,y)\n"
   ]
  },
  {
   "cell_type": "markdown",
   "metadata": {
    "collapsed": true
   },
   "source": [
    "5.3) (Optional) Prove the relation you found in 5.2)"
   ]
  },
  {
   "cell_type": "code",
   "execution_count": 206,
   "metadata": {},
   "outputs": [],
   "source": [
    "#No!"
   ]
  }
 ],
 "metadata": {
  "kernelspec": {
   "display_name": "Python 3",
   "language": "python",
   "name": "python3"
  },
  "language_info": {
   "codemirror_mode": {
    "name": "ipython",
    "version": 3
   },
   "file_extension": ".py",
   "mimetype": "text/x-python",
   "name": "python",
   "nbconvert_exporter": "python",
   "pygments_lexer": "ipython3",
   "version": "3.6.4"
  },
  "toc": {
   "colors": {
    "hover_highlight": "#DAA520",
    "running_highlight": "#FF0000",
    "selected_highlight": "#FFD700"
   },
   "moveMenuLeft": true,
   "nav_menu": {
    "height": "30px",
    "width": "252px"
   },
   "navigate_menu": true,
   "number_sections": false,
   "sideBar": true,
   "threshold": 4,
   "toc_cell": false,
   "toc_section_display": "block",
   "toc_window_display": false
  }
 },
 "nbformat": 4,
 "nbformat_minor": 1
}
