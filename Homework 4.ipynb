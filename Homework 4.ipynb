{
 "cells": [
  {
   "cell_type": "markdown",
   "metadata": {},
   "source": [
    "# Homework 4"
   ]
  },
  {
   "cell_type": "code",
   "execution_count": 54,
   "metadata": {},
   "outputs": [],
   "source": [
    "import numpy as np\n",
    "%matplotlib inline\n",
    "from matplotlib import pyplot as plt\n",
    "import math\n",
    "from math import exp\n",
    "from scipy.integrate import quad\n",
    "# plt.style.use('fivethirtyeight')"
   ]
  },
  {
   "cell_type": "markdown",
   "metadata": {},
   "source": [
    "### 1) \n",
    "If we use trapezoid rule to find the\n",
    "$$\\int \\limits_{x=1}^{3} e^{-x} \\; dx$$\n",
    "using $10$ pieces. What would be our value and what is our bound on error? Verify that you actual error is within the bound your got."
   ]
  },
  {
   "cell_type": "code",
   "execution_count": 55,
   "metadata": {},
   "outputs": [
    {
     "data": {
      "text/plain": [
       "0.31915197451352295"
      ]
     },
     "execution_count": 55,
     "metadata": {},
     "output_type": "execute_result"
    }
   ],
   "source": [
    "def f(x):\n",
    "    return np.e**(-x)\n",
    "def trapezoid(f, a, b, n):\n",
    "    h = (b-a)/n\n",
    "    return 1/2*h*(2*sum(f(a+i*h) for i in range(1,n))+f(a)+f(b))\n",
    "trapezoid(f,1,3,10)"
   ]
  },
  {
   "cell_type": "code",
   "execution_count": 56,
   "metadata": {},
   "outputs": [
    {
     "data": {
      "text/plain": [
       "0.00033191378911909296"
      ]
     },
     "execution_count": 56,
     "metadata": {},
     "output_type": "execute_result"
    }
   ],
   "source": [
    "# error bound\n",
    "# error = (1/12)(b-a)^3/(n^2) * f''(xi)\n",
    "\n",
    "def error(a,b,n,x):\n",
    "    return (1/12)*(((b-a)**3)/n**2)*(np.e**(-x))\n",
    "\n",
    "error(1,3,10,3)"
   ]
  },
  {
   "cell_type": "code",
   "execution_count": 57,
   "metadata": {},
   "outputs": [
    {
     "data": {
      "text/plain": [
       "(0.3180923728035784, 3.5315347624418167e-15)"
      ]
     },
     "execution_count": 57,
     "metadata": {},
     "output_type": "execute_result"
    }
   ],
   "source": [
    "#actual ans and error\n",
    "ans = quad(f,1,3)\n",
    "# actual error is within error bound found above \n",
    "actual_ans = ans[0]\n",
    "error = ans[1]\n",
    "ans "
   ]
  },
  {
   "cell_type": "markdown",
   "metadata": {},
   "source": [
    "1.1) If we want to evaluate the integral in the previous question such that the answer is at most $10^{-6}$ from the real answer. How many pieces do we need?"
   ]
  },
  {
   "cell_type": "code",
   "execution_count": 58,
   "metadata": {},
   "outputs": [
    {
     "data": {
      "text/plain": [
       "0.3180924788343619"
      ]
     },
     "execution_count": 58,
     "metadata": {},
     "output_type": "execute_result"
    }
   ],
   "source": [
    "trapezoid(f,1,3,1000)\n",
    "# 1000 pieces "
   ]
  },
  {
   "cell_type": "markdown",
   "metadata": {},
   "source": [
    "### 2) \n",
    "Simple linear regression. Fit the data in `prob2.txt` with a straight line. Plot to verify."
   ]
  },
  {
   "cell_type": "code",
   "execution_count": 59,
   "metadata": {},
   "outputs": [
    {
     "data": {
      "image/png": "[encoded data removed]",
      "text/plain": [
       "<matplotlib.figure.Figure at 0x208bf824128>"
      ]
     },
     "metadata": {},
     "output_type": "display_data"
    }
   ],
   "source": [
    "plt.figure(figsize=(10,5))\n",
    "data_x, data_y = np.loadtxt('prob2.txt')\n",
    "plt.scatter(data_x,data_y,marker = '.',color='turquoise')\n",
    "plt.grid()"
   ]
  },
  {
   "cell_type": "code",
   "execution_count": 60,
   "metadata": {},
   "outputs": [
    {
     "name": "stdout",
     "output_type": "stream",
     "text": [
      "[1.24849341 6.49963604]\n"
     ]
    },
    {
     "data": {
      "image/png": "[encoded data removed]",
      "text/plain": [
       "<matplotlib.figure.Figure at 0x208bf896518>"
      ]
     },
     "metadata": {},
     "output_type": "display_data"
    }
   ],
   "source": [
    "plt.figure(figsize=(10,5))\n",
    "A = [[sum(data_x**2),sum(data_x)],[sum(data_x),len(data_x)]]\n",
    "\n",
    "C = [sum(data_x*data_y),sum(data_y)]\n",
    "\n",
    "ans = np.linalg.solve(A,C)\n",
    "print(ans)\n",
    "\n",
    "y = (ans[0])*(data_x) + ans[1]\n",
    "plt.plot(data_x, data_y, '.',color='turquoise')\n",
    "plt.plot(data_x,y,color='deeppink')\n",
    "plt.grid()\n"
   ]
  },
  {
   "cell_type": "markdown",
   "metadata": {},
   "source": [
    "3) **[Optional]** Simpson's rule. In the class, we learn how to use trapezoid rule to numerically the integral. In this problem you will find a better rule to evaluate the integral.\n",
    "\n",
    "You will show this in the next problem that\n",
    "\n",
    "$$\\int \\limits_{x=a}^{a+nh} f(x) \\; dx \\approx \\frac{h}{3} \\left(  f(x_0) + 4 \\sum^{n-1}_{i=1,3,5\\ldots} f(x_i) + 2 \\sum^{n-2}_{j=2,4,6\\ldots} f(x_j)+ f(x_n)\\right) $$\n",
    "\n",
    "where $x_i = a+ih$.\n",
    "\n",
    "\n"
   ]
  },
  {
   "cell_type": "markdown",
   "metadata": {},
   "source": [
    "3.1) Use Simpson's Rule described above to find\n",
    "\n",
    "$$\\int \\limits_{x=1}^{3} e^{-x} \\; dx$$\n",
    "\n",
    "using n = 10. This is the same integral as the one in problem 1."
   ]
  },
  {
   "cell_type": "code",
   "execution_count": null,
   "metadata": {},
   "outputs": [],
   "source": []
  },
  {
   "cell_type": "markdown",
   "metadata": {},
   "source": [
    "Now we will try to understand why the formula shown above works. The key idea is that instead of approximating the area under the curve using trapezoid shape. We will use parabola to approximate the shape. Let us consider a curve $f(x)$ that we want to integrate\n",
    "\n",
    "$$\\int \\limits_{x=a}^{x=a+2h} f(x) \\;dx$$\n",
    "\n",
    "We will use parabola to approximate the area. This parabola will have to pass through three points.\n",
    "    $$[x, f(x)], [x+h, f(x+h)], [x+2h, f(x+2h)]$$\n",
    "    \n",
    "Concretely, suppose that we want to calculate\n",
    "\n",
    "$$\\int \\limits_{x=1}^{x=3} e^{-x} \\;dx $$\n",
    "\n",
    "with $h=1$. The parabola is shown below."
   ]
  },
  {
   "cell_type": "code",
   "execution_count": 61,
   "metadata": {},
   "outputs": [
    {
     "data": {
      "text/plain": [
       "<matplotlib.legend.Legend at 0x208bfef6b38>"
      ]
     },
     "execution_count": 61,
     "metadata": {},
     "output_type": "execute_result"
    },
    {
     "data": {
      "image/png": "[encoded data removed]",
      "text/plain": [
       "<matplotlib.figure.Figure at 0x208bf7ed898>"
      ]
     },
     "metadata": {},
     "output_type": "display_data"
    }
   ],
   "source": [
    "def f(x):\n",
    "    return math.exp(-x)\n",
    "#let h = 1\n",
    "#we are interested in parabola that passes through\n",
    "#(1, e^-1), (2, e^-2), (3, e^-3)\n",
    "#We can us Legendre Polynomail for this.\n",
    "def poly(x):\n",
    "    #legendre polynomial that passes through (1, e^-1), (2, e^-2), (3, e^-3)\n",
    "    return 0.74742 - 0.453038*x + 0.073498*x**2\n",
    "\n",
    "x = np.linspace(1, 3,100)\n",
    "ty = [f(xx) for xx in x]\n",
    "py = [poly(xx) for xx in x]\n",
    "plt.plot(x, ty, label='f(x)')\n",
    "plt.plot(x,py, label='legendre')\n",
    "plt.plot([1,2,3],[exp(-1),exp(-2),exp(-3)],'o',label=('x, x+h, x+2h'))\n",
    "plt.xlim(0.9,3.1)\n",
    "plt.grid()\n",
    "plt.legend(loc='upper right')"
   ]
  },
  {
   "cell_type": "markdown",
   "metadata": {
    "collapsed": true
   },
   "source": [
    "3.2)From the picture above we can estimate the area of the blue curve using the area under the green parabola. This approximation is much better than trapezoid one since it capture some of the curvature of the curve.\n",
    "\n",
    "Your job is\n",
    "\n",
    " 1. Find the polynomial of degree two that passes through \n",
    " \n",
    " $$[x,f(x)], [x+h, f(x+h)], [x+2h, f(x+2h)]$$\n",
    " \n",
    " 2. Show that the area under the polynomial you found ealirer is\n",
    " \n",
    " $$ A = \\frac{h}{3} \\left[f(x)+4 f(x+h) + f(x+2h) \\right] $$\n",
    " \n",
    " All you need to do is to find whatever you got in 1) analytically. Use Wolfram Alpha or Mathematica if needed."
   ]
  },
  {
   "cell_type": "code",
   "execution_count": null,
   "metadata": {},
   "outputs": [],
   "source": []
  },
  {
   "cell_type": "markdown",
   "metadata": {
    "collapsed": true
   },
   "source": [
    "3.3) Use what you found in 3.2. To show that if you subdivide the interval $[a,b]$ into $n$(even number) subdivision each one with with $h$ and we approximate the area of each two pieces using legendre polynomial as we have done in 3.1, we will find that\n",
    "\n",
    "$$\\int \\limits_{x=a}^{a+nh} f(x) \\; dx \\approx \\frac{h}{3} \\left(  f(x_0) + 4 \\sum^{n-1}_{i=1,3,5\\ldots} f(x_i) + 2 \\sum^{n-2}_{j=2,4,6\\ldots} f(x_j)+ f(x_n)\\right) $$\n",
    "\n",
    "This formula is called Simpson's 1/3 rule. It converges with $O(1/n^4)$. Much faster than Trapezoid. Proving this convergence behavior is similar to how we get one for trapezoid but the algebra is a lot more involved."
   ]
  },
  {
   "cell_type": "code",
   "execution_count": null,
   "metadata": {},
   "outputs": [],
   "source": []
  },
  {
   "cell_type": "markdown",
   "metadata": {},
   "source": [
    "### 4)\n",
    "Load the data in `prob4.txt`. We want to fit this data with the following function \n",
    "\n",
    "$$f(x) = a \\exp(-x) + c$$\n",
    "\n",
    "where $a$ and $c$ are parameters. \n",
    "\n",
    "Find the $a$ and $c$ that give you the \"best fit\".\n",
    "\n",
    "Make a plot to verify the answer."
   ]
  },
  {
   "cell_type": "code",
   "execution_count": 62,
   "metadata": {},
   "outputs": [
    {
     "name": "stdout",
     "output_type": "stream",
     "text": [
      "[3.07840443 1.41483243]\n"
     ]
    },
    {
     "data": {
      "text/plain": [
       "[<matplotlib.lines.Line2D at 0x208bf810160>]"
      ]
     },
     "execution_count": 62,
     "metadata": {},
     "output_type": "execute_result"
    },
    {
     "data": {
      "image/png": "[encoded data removed]",
      "text/plain": [
       "<matplotlib.figure.Figure at 0x208bf814400>"
      ]
     },
     "metadata": {},
     "output_type": "display_data"
    }
   ],
   "source": [
    "x, y = np.loadtxt('prob4.txt')\n",
    "# print(x,y)\n",
    "plt.figure(figsize=(10,5))\n",
    "plt.scatter(x,y,marker='.',color='gold')\n",
    "plt.grid()\n",
    "\n",
    "C = [sum(y*np.e**(-x)),sum(y)]\n",
    "A = [[sum(np.e**(-2*x)),sum(np.e**(-x))],[sum(np.e**(-x)),len(y)]]\n",
    "\n",
    "ans = np.linalg.solve(A,C)\n",
    "print(ans)\n",
    "xs = np.linspace(1,3,200)\n",
    "def ys(xs):\n",
    "    return ans[0]*np.e**(-xs) + ans[1]\n",
    "\n",
    "plt.plot(xs,ys(xs),color='purple')"
   ]
  },
  {
   "cell_type": "markdown",
   "metadata": {},
   "source": [
    "### 5) \n",
    "Shipyard. ship_speed_fuel.csv and ship_speed_fuel.txt contains data for fuel consumption and ship speed. You can load them up using loadtxt like shown below.\n",
    "\n",
    "    Dataset:  ship_speed_fuel.csv\n",
    "\n",
    "    Source: S.Wang, Q. Meng (2012). \"Sailing Speed Optimization for Container\n",
    "    Ships in a Liner Shipping Network,\" Transportation Research Part E, Vol. 48, pp. 701-714\n",
    "\n",
    "    Description:\n",
    "    Measurements of average speed (knots) and fuel consumption (tons/day) for 5 ship-type and voyage leg combinations. 20 runs for each combination.\n",
    "    Ship Type/Voyage leg:   (TEU = 20-foot equivalent unit)\n",
    "    1: 3000-TEU   Singapore-Jakarta\n",
    "    2: 3000-TEU   Singapore-Kaohsiung\n",
    "    3: 5000-TEU   Hong Kong-Singapore\n",
    "    4: 8000-TEU   Yantian-Los Angeles\n",
    "    5: 8000-TEU   Tokyo-Xiamen\n",
    "    Authors Fit Power Model:  Fuel = a(speed^b)   \n",
    "    or equivalently:        ln(Fuel) = ln(a) + b(ln(speed))\n",
    "    Polynomial fits well too.\n",
    "\n",
    "    Variable Names\n",
    "    ship_leg    (1-5)\n",
    "    speed   (knots)\n",
    "    fuel    (tons/day)\n",
    "\n",
    "    \n",
    "The plot below show clearly that there are two kinds of ship: small ship and a big ship. \n",
    "\n",
    "Source: S.Wang, Q. Meng (2012). \"Sailing Speed Optimization for Container\n",
    "Ships in a Liner Shipping Network,\" "
   ]
  },
  {
   "cell_type": "code",
   "execution_count": 63,
   "metadata": {},
   "outputs": [
    {
     "name": "stdout",
     "output_type": "stream",
     "text": [
      "100 100 100\n"
     ]
    },
    {
     "data": {
      "image/png": "[encoded data removed]",
      "text/plain": [
       "<matplotlib.figure.Figure at 0x208bf8140b8>"
      ]
     },
     "metadata": {},
     "output_type": "display_data"
    }
   ],
   "source": [
    "plt.figure(figsize=(10,5))\n",
    "ship = np.loadtxt(open(\"ship_speed_fuel.csv\",\"rb\"), delimiter=',', skiprows=1)\n",
    "#try to figure out what exactly is in the ship variable\n",
    "#see ship_speed_fuel.text for the meaning of each column\n",
    "\n",
    "# col 1 : ship number\n",
    "# col 2 : ship speed \n",
    "# col 3 : ship fuel\n",
    "shipno = ship[:, 0]\n",
    "speed = ship[:, 1]\n",
    "fuel = ship[:, 2]\n",
    "plt.plot(speed, fuel,'.',color='darkkhaki')\n",
    "plt.xlabel('speed')\n",
    "plt.ylabel('fuel')\n",
    "plt.grid()\n",
    "\n",
    "print(len(shipno),len(speed),len(fuel))\n"
   ]
  },
  {
   "cell_type": "markdown",
   "metadata": {},
   "source": [
    "5.1) Physics dictates that the bigger the ship the more power it needs to maintain a fixed speed. Figure out which ship 1,2,3,4,5 is a big ship and which ship is a small ship."
   ]
  },
  {
   "cell_type": "code",
   "execution_count": 64,
   "metadata": {},
   "outputs": [
    {
     "data": {
      "image/png": "[encoded data removed]",
      "text/plain": [
       "<matplotlib.figure.Figure at 0x208be056f98>"
      ]
     },
     "metadata": {},
     "output_type": "display_data"
    }
   ],
   "source": [
    "# print(plt.style.available)\n",
    "plt.style.use('seaborn-bright')\n",
    "plt.figure(figsize=(15,10))\n",
    "def ship_speed(shipno,speed):\n",
    "    ship1_speed = []\n",
    "    ship2_speed = []\n",
    "    ship3_speed = []\n",
    "    ship4_speed = []\n",
    "    ship5_speed = []\n",
    "    for sp in range(len(shipno)):\n",
    "        if shipno[int(sp)] == 1:\n",
    "            ship1_speed.append(speed[int(sp)])\n",
    "        elif shipno[int(sp)] == 2:\n",
    "            ship2_speed.append(speed[int(sp)])\n",
    "        elif shipno[int(sp)] == 3:\n",
    "            ship3_speed.append(speed[int(sp)])\n",
    "        elif shipno[int(sp)] == 4:\n",
    "            ship4_speed.append(speed[int(sp)])\n",
    "        elif shipno[int(sp)] == 5:\n",
    "            ship5_speed.append(speed[int(sp)])\n",
    "    return (ship1_speed,ship2_speed,ship3_speed,ship4_speed,ship5_speed)\n",
    "\n",
    "def ship_fuel(shipno,fuel):\n",
    "    fuel_1 = []\n",
    "    fuel_2 = []\n",
    "    fuel_3 = []\n",
    "    fuel_4 = []\n",
    "    fuel_5 = []\n",
    "    for fl in range(len(shipno)):\n",
    "        if shipno[int(fl)] == 1:\n",
    "            fuel_1.append(fuel[int(fl)])\n",
    "        elif shipno[int(fl)] == 2:\n",
    "            fuel_2.append(fuel[int(fl)])\n",
    "        elif shipno[int(fl)] == 3:\n",
    "            fuel_3.append(fuel[int(fl)])\n",
    "        elif shipno[int(fl)] == 4:\n",
    "            fuel_4.append(fuel[int(fl)])\n",
    "        elif shipno[int(fl)] == 5:\n",
    "            fuel_5.append(fuel[int(fl)])\n",
    "    return (fuel_1,fuel_2,fuel_3,fuel_4,fuel_5)\n",
    "\n",
    "# print('speed_1',ship_speed(shipno,speed)[0])\n",
    "# print('speed_2',ship_speed(shipno,speed)[1])\n",
    "# print('speed_3',ship_speed(shipno,speed)[2])\n",
    "# print('speed_4',ship_speed(shipno,speed)[3])\n",
    "# print('speed_5',ship_speed(shipno,speed)[4])\n",
    "\n",
    "# print(len(ship_speed(shipno,speed)[0]))\n",
    "# print(len(ship_speed(shipno,speed)[1]))\n",
    "# print(len(ship_speed(shipno,speed)[2]))\n",
    "# print(len(ship_speed(shipno,speed)[3]))\n",
    "# print(len(ship_speed(shipno,speed)[4]))\n",
    "\n",
    "# print('fuel_1',ship_fuel(shipno,fuel)[0])\n",
    "# print('fuel_2',ship_fuel(shipno,fuel)[1])\n",
    "# print('fuel_3',ship_fuel(shipno,fuel)[2])\n",
    "# print('fuel_4',ship_fuel(shipno,fuel)[3])\n",
    "# print('fuel_5',ship_fuel(shipno,fuel)[4])\n",
    "\n",
    "# print(len(ship_fuel(shipno,fuel)[0]))\n",
    "# print(len(ship_fuel(shipno,fuel)[1]))\n",
    "# print(len(ship_fuel(shipno,fuel)[2]))\n",
    "# print(len(ship_fuel(shipno,fuel)[3]))\n",
    "# print(len(ship_fuel(shipno,fuel)[4]))\n",
    "\n",
    "plt.scatter(ship_speed(shipno,speed)[0],ship_fuel(shipno,fuel)[0],label='ship 1',marker='.')\n",
    "plt.scatter(ship_speed(shipno,speed)[1],ship_fuel(shipno,fuel)[1],label='ship 2',marker='.')\n",
    "plt.scatter(ship_speed(shipno,speed)[2],ship_fuel(shipno,fuel)[2],label='ship 3',marker='.')\n",
    "plt.scatter(ship_speed(shipno,speed)[3],ship_fuel(shipno,fuel)[3],label='ship 4',marker='.')\n",
    "plt.scatter(ship_speed(shipno,speed)[4],ship_fuel(shipno,fuel)[4],label='ship 5',marker='.')\n",
    "\n",
    "plt.xlabel('speed')\n",
    "plt.ylabel('fuel')\n",
    "plt.legend(fontsize=15)\n",
    "\n",
    "plt.grid()\n",
    "\n",
    "# ship 1 2 3 is small \n",
    "# ship 4 5 is big\n",
    "  "
   ]
  },
  {
   "cell_type": "code",
   "execution_count": 65,
   "metadata": {},
   "outputs": [
    {
     "data": {
      "text/plain": [
       "Text(0,0.5,'fuel')"
      ]
     },
     "execution_count": 65,
     "metadata": {},
     "output_type": "execute_result"
    },
    {
     "data": {
      "image/png": "[encoded data removed]",
      "text/plain": [
       "<matplotlib.figure.Figure at 0x208be461198>"
      ]
     },
     "metadata": {},
     "output_type": "display_data"
    }
   ],
   "source": [
    "small_ship_fuel = ship_fuel(shipno,fuel)[0] + ship_fuel(shipno,fuel)[1] + ship_fuel(shipno,fuel)[2]\n",
    "big_ship_fuel = ship_fuel(shipno,fuel)[3] + ship_fuel(shipno,fuel)[4]\n",
    "small_ship_speed = ship_speed(shipno,speed)[0] + ship_speed(shipno,speed)[1] + ship_speed(shipno,speed)[2]\n",
    "big_ship_speed = ship_speed(shipno,speed)[3] + ship_speed(shipno,speed)[4]\n",
    "\n",
    "plt.figure(figsize=(15,10))\n",
    "plt.scatter(small_ship_speed,small_ship_fuel,marker='.')\n",
    "plt.scatter(big_ship_speed,big_ship_fuel,marker='.')\n",
    "plt.grid()\n",
    "plt.xlabel('speed')\n",
    "plt.ylabel('fuel')"
   ]
  },
  {
   "cell_type": "markdown",
   "metadata": {},
   "source": [
    "5.2) The ship fuel consumption, $c$, for a given speed, $v$ can be modeled with\n",
    "\n",
    "$$c = a v^b$$\n",
    "\n",
    "$$ fuelCon = a \\cdot speed^b$$\n",
    "\n",
    "where $a$ and $b$ are parameter you need to find for best fit.\n",
    "\n",
    "This relation, is however not linear. It nees some manipulation to make it linear. We can take $\\ln$ on both side and obtain\n",
    "\n",
    "$$\\ln c = b \\ln v + \\ln a$$\n",
    "\n",
    "$$ \\ln fuelCon = b\\ln(speed) + \\ln a$$\n",
    "\n",
    "which is a linear relation. Your job for this one is to find $a$ and $b$ for big ship and small ship. Plot to verify. (You should have two set of parameters one for big ship and one for small ship)."
   ]
  },
  {
   "cell_type": "code",
   "execution_count": 66,
   "metadata": {},
   "outputs": [
    {
     "data": {
      "text/plain": [
       "<matplotlib.legend.Legend at 0x208bff389b0>"
      ]
     },
     "execution_count": 66,
     "metadata": {},
     "output_type": "execute_result"
    },
    {
     "data": {
      "image/png": "[encoded data removed]",
      "text/plain": [
       "<matplotlib.figure.Figure at 0x208bf751940>"
      ]
     },
     "metadata": {},
     "output_type": "display_data"
    }
   ],
   "source": [
    "plt.figure(figsize=(15,7))\n",
    "\n",
    "Cs = [sum(np.log(small_ship_fuel)),sum(np.log(small_ship_fuel)*np.log(small_ship_speed))]\n",
    "As = [[len(small_ship_fuel),sum(np.log(small_ship_speed))],[sum(np.log(small_ship_speed)),sum(np.log(small_ship_speed)**2)]]\n",
    "\n",
    "lnaS,bS = np.linalg.solve(As,Cs)\n",
    "aS = np.e**(lnaS)\n",
    "# print(lna,b)\n",
    "\n",
    "#small ship \n",
    "\n",
    "xSm = np.linspace(15,22,700)\n",
    "ySm = (aS)*(xSm)**bS\n",
    "plt.scatter(small_ship_speed,small_ship_fuel,marker='.',label='small ship')\n",
    "plt.plot(xSm,ySm,color='gold',label='small ship fit')\n",
    "plt.grid()\n",
    "\n",
    "#large ship\n",
    "\n",
    "Cl = [sum(np.log(big_ship_fuel)),sum(np.log(big_ship_fuel)*np.log(big_ship_speed))]\n",
    "Al = [[len(big_ship_fuel),sum(np.log(big_ship_speed))],[sum(np.log(big_ship_speed)),sum(np.log(big_ship_speed)**2)]]\n",
    "\n",
    "lnal,bl = np.linalg.solve(Al,Cl)\n",
    "al = np.e**(lnal)\n",
    "\n",
    "xLg = np.linspace(15,23,800)\n",
    "yLg = (al)*(xLg)**bl\n",
    "plt.scatter(big_ship_speed,big_ship_fuel,marker='.',label='big ship')\n",
    "plt.plot(xLg,yLg,color='tomato',label='big ship fit')\n",
    "\n",
    "plt.legend()\n",
    "\n"
   ]
  },
  {
   "cell_type": "markdown",
   "metadata": {},
   "source": [
    "5.3) (Optional, for fun only.) Suppose that the small ship can carry 1000 tons of good while big ship can carry 2000 tons of good. The cost of ship fuel(bunker) is about 250 Dollar per metric tons. Company normally charge about 0.10 Dollar per ton of good per mile travel.\n",
    "\n",
    "The faster your ship goes the more trip you can make the more revenue you can get. Yet, at the same time the trip will cost you more cost on fuel.\n",
    "\n",
    "Your job is to figure out what speed you need to run the ship at for maximum profit and which ship is better for you."
   ]
  },
  {
   "cell_type": "code",
   "execution_count": null,
   "metadata": {},
   "outputs": [],
   "source": []
  },
  {
   "cell_type": "markdown",
   "metadata": {},
   "source": [
    "### 6)\n",
    "Noisy peak finding.\n",
    "\n",
    "Finding peak in a noisy data is a very common task in analyzing physical from sensors. Consider the following data shown below.\n",
    "\n",
    "Your task for this problem is to find the peak position and peak height from noisy data. There are 10 dataset make sure you succeed in finding **all** the peak in at least 9.\n",
    "\n",
    "```python\n",
    "def find_peaks(xs, ys):\n",
    "    return [(xpeak, ypeak), (xpeak, ypeak), ...]\n",
    "```\n",
    "\n",
    "Here are some hints:\n",
    "- You should first find candidates for peak in noisy data.\n",
    "- Fit the peak(and neighbor) with parabola\n",
    "- Make sure the parameter from the fitted parabola actually indicate that it is a peak.\n",
    "- Then use the parameter from the fitted parabola to find the peak location and height. (Recall High School Math)\n"
   ]
  },
  {
   "cell_type": "code",
   "execution_count": 67,
   "metadata": {},
   "outputs": [],
   "source": [
    "np.random.seed(9999)\n",
    "def is_good_peak(mu, min_dist=0.8):\n",
    "#     print(mu)\n",
    "    if mu is None:\n",
    "        return False\n",
    "    sorted_mu = np.sort(mu)\n",
    "#     print(sorted_mu)\n",
    "    if sorted_mu[0] < 0.5:\n",
    "        return False\n",
    "    if sorted_mu[-1] > 2.5:\n",
    "        return False\n",
    "    for p, n in zip(sorted_mu, sorted_mu[1:]):\n",
    "#         print(p,n)\n",
    "#         print(abs(p-n))\n",
    "        if abs(p-n) < min_dist:\n",
    "            return False\n",
    "    return True\n",
    "\n",
    "maxx = 3\n",
    "ndata = 500\n",
    "nset = 10\n",
    "l = []\n",
    "answers = []\n",
    "x_data = []\n",
    "for iset in range(1, nset):\n",
    "    \n",
    "    npeak = np.random.randint(2,4)\n",
    "    xs = np.linspace(0,maxx,ndata)\n",
    "    x_data.append(xs)\n",
    "    ys = np.zeros(ndata)\n",
    "    mu = None\n",
    "    \n",
    "    while not is_good_peak(mu):\n",
    "        mu = np.random.random(npeak)*maxx\n",
    "    for ipeak in range(npeak):\n",
    "        m = mu[ipeak]\n",
    "        sigma = np.random.random()*0.3 + 0.2\n",
    "        height = np.random.random()*0.5 + 1\n",
    "        ys += height*np.exp(-(xs-m)**2/sigma**2)\n",
    "        ys += np.random.randn(ndata)*0.07\n",
    "    l.append(ys)\n",
    "    answers.append(mu)\n",
    "\n",
    "p6_ys = l\n",
    "p6_xs = np.linspace(0,maxx,ndata)\n",
    "p6_answers = answers\n",
    "\n",
    "# ansLst = []\n",
    "# ysLst = []\n",
    "\n",
    "# for ys, ans in zip(p6_ys, p6_answers):\n",
    "#     ansLst.append(ans)\n",
    "#     ysLst.append(ys)\n",
    "#     plt.figure()\n",
    "#     plt.plot(xs, ys, '.')\n",
    "#     for a in ans:\n",
    "#         plt.axvline(a,color='red')\n",
    "    "
   ]
  },
  {
   "cell_type": "code",
   "execution_count": 68,
   "metadata": {},
   "outputs": [],
   "source": [
    "def slicer(x,y, piv):\n",
    "    pivot_x = 0\n",
    "    lstX = []\n",
    "    lstY = []\n",
    "    LeftX =[]\n",
    "    LeftY =[]\n",
    "    \n",
    "    if(piv < 1.0):\n",
    "        return lstY, lstX, x, y\n",
    "    \n",
    "    for val in zip(x,y):\n",
    "        if val[1] == piv:\n",
    "            pivot_x = val[0]\n",
    "            break\n",
    "            \n",
    "    piv_left = pivot_x - 0.5\n",
    "    piv_right = pivot_x + 0.5\n",
    "    \n",
    "    for val in zip(x,y):\n",
    "        if piv_left <= val[0] <= piv_right:\n",
    "            lstX.append(val[0])\n",
    "            lstY.append(val[1])\n",
    "        else:\n",
    "            LeftX.append(val[0])\n",
    "            LeftY.append(val[1])\n",
    "    return lstX, lstY, LeftX, LeftY"
   ]
  },
  {
   "cell_type": "code",
   "execution_count": 69,
   "metadata": {},
   "outputs": [],
   "source": [
    "from scipy.optimize import minimize\n",
    "\n",
    "def parabola(x,a,b,c):\n",
    "    return a*x**2+b*x+c"
   ]
  },
  {
   "cell_type": "code",
   "execution_count": 70,
   "metadata": {},
   "outputs": [],
   "source": [
    "def lin_parabola(x,y):\n",
    "    xs = x\n",
    "    ys = y\n",
    "    peaks = []\n",
    "    \n",
    "    for i in range(3):\n",
    "        lstX, lstY, xs, ys = slicer(xs, ys, max(ys))\n",
    "        dx = np.array(lstX)\n",
    "        dy = np.array(lstY)\n",
    "        \n",
    "        def cost(v):\n",
    "            a,b,c = v\n",
    "            return np.sum((a*dx**2 + b*dx + c - dy)**2)\n",
    "        \n",
    "        res = minimize(cost, np.array([1,1,1]))\n",
    "        a,b,c = res.x\n",
    "        \n",
    "        peak = -(b/(2*a))\n",
    "        \n",
    "        if(0<peak<3):\n",
    "            peaks.append(tuple([peak,parabola(peak,a,b,c)]))\n",
    "    return peaks"
   ]
  },
  {
   "cell_type": "code",
   "execution_count": 71,
   "metadata": {},
   "outputs": [],
   "source": [
    "def find_peaks(x,y):\n",
    "    return lin_parabola(x,y)"
   ]
  },
  {
   "cell_type": "code",
   "execution_count": 72,
   "metadata": {},
   "outputs": [
    {
     "name": "stdout",
     "output_type": "stream",
     "text": [
      "1\n",
      "[(2.489663584907806, 1.3540234772518716), (0.8553343645705982, 1.206758533459121)]\n",
      "\n",
      "2\n",
      "[(1.4617305696149814, 1.1906036750848727), (2.4015535684660416, 1.1305713682731309), (0.597171306716434, 0.881125413092847)]\n",
      "\n",
      "3\n",
      "[(2.453550055703795, 1.3299705901235441), (0.5593585773330767, 0.9260415612116575), (1.3697105295438465, 1.0651250909391283)]\n",
      "\n",
      "4\n",
      "[(1.5835956063398262, 1.2924129535858282), (2.264302146413169, 1.3270509830374309), (0.6653371073031485, 1.2782514502128737)]\n",
      "\n",
      "5\n",
      "[(1.4254743379684431, 1.3168772804542916), (0.508365256827445, 1.2721690393932015), (2.337930628745767, 0.9623566187694159)]\n",
      "\n",
      "6\n",
      "[(0.7148384700552499, 1.4580067912097796), (2.3681967080606556, 1.3178846684998895), (1.4332714838183753, 1.2788508508249685)]\n",
      "\n",
      "7\n",
      "[(1.5152257013785457, 1.376153007104354), (0.7283141360092986, 1.1374547095315892)]\n",
      "\n",
      "8\n",
      "[(0.8228108077145142, 0.9764656906845781), (2.408999611069179, 0.7435124386661762)]\n",
      "\n",
      "9\n",
      "[(0.5318135531670528, 1.0627463211853574), (1.5219133115096661, 1.0008794065367876), (2.4520313376401797, 0.9627223927242134)]\n",
      "\n"
     ]
    }
   ],
   "source": [
    "num = 1\n",
    "for i in p6_ys:\n",
    "    ys = i\n",
    "    xs = p6_xs\n",
    "    peak = find_peaks(xs, ys)\n",
    "    print(num)\n",
    "    print(peak)\n",
    "    print()\n",
    "    num+=1"
   ]
  },
  {
   "cell_type": "code",
   "execution_count": null,
   "metadata": {},
   "outputs": [],
   "source": []
  }
 ],
 "metadata": {
  "kernelspec": {
   "display_name": "Python 3",
   "language": "python",
   "name": "python3"
  },
  "language_info": {
   "codemirror_mode": {
    "name": "ipython",
    "version": 3
   },
   "file_extension": ".py",
   "mimetype": "text/x-python",
   "name": "python",
   "nbconvert_exporter": "python",
   "pygments_lexer": "ipython3",
   "version": "3.6.4"
  },
  "toc": {
   "colors": {
    "hover_highlight": "#DAA520",
    "running_highlight": "#FF0000",
    "selected_highlight": "#FFD700"
   },
   "moveMenuLeft": true,
   "nav_menu": {
    "height": "30px",
    "width": "252px"
   },
   "navigate_menu": true,
   "number_sections": false,
   "sideBar": true,
   "threshold": 4,
   "toc_cell": false,
   "toc_section_display": "block",
   "toc_window_display": false
  }
 },
 "nbformat": 4,
 "nbformat_minor": 1
}
